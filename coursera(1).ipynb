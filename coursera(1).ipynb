{
 "cells": [
  {
   "cell_type": "markdown",
   "id": "ae858633",
   "metadata": {},
   "source": [
    "# Peer-graded Assignment"
   ]
  },
  {
   "cell_type": "markdown",
   "id": "a66b99b8",
   "metadata": {},
   "source": [
    " Introduction"
   ]
  },
  {
   "cell_type": "markdown",
   "id": "0c52f148",
   "metadata": {},
   "source": [
    "- **Python**\n",
    "- **R**\n",
    "- **SQL**\n",
    "- **Julia**\n",
    "- **Scala**\n",
    "- **MATLAB**\n",
    "- **SAS**\n",
    "- **Java**\n",
    "- **JavaScript**"
   ]
  },
  {
   "cell_type": "markdown",
   "id": "cd6f8a69",
   "metadata": {},
   "source": [
    "- **Pandas**\n",
    "- **NumPy**\n",
    "- **Scikit-learn**\n",
    "- **TensorFlow**\n",
    "- **Keras**\n",
    "- **Matplotlib**\n",
    "- **Seaborn**\n",
    "- **PyTorch**\n",
    "- **Apache Spark**"
   ]
  },
  {
   "cell_type": "markdown",
   "id": "2f4df551",
   "metadata": {},
   "source": [
    "| Category                 | Tools                                      |\n",
    "|--------------------------|---------------------------------------------|\n",
    "| **Integrated Environments** | Jupyter Notebooks, RStudio, Spyder, Visual Studio Code (with data science extensions) |\n",
    "| **Data Collection & Cleaning** | Apache NiFi, Apache Kafka, Trifacta, OpenRefine |\n",
    "| **Data Storage & Databases** | MySQL, PostgreSQL, MongoDB, Cassandra, SQLite |\n",
    "| **Big Data Frameworks** | Hadoop, Apache Spark, Apache Flink, Presto |\n",
    "| **Cloud Platforms** | Google Cloud Platform (GCP), Amazon Web Services (AWS), Microsoft Azure |\n",
    "| **Version Control** | Git, SVN (Subversion) |\n",
    "| **Data Visualization** | Tableau, Power BI, Plotly, D3.js |\n",
    "| **Machine Learning Platforms** | DataRobot, H2O.ai, RapidMiner, IBM Watson Studio |\n",
    "| **Deployment & Model Serving** | Docker, Kubernetes, Flask, TensorFlow Serving |\n",
    "| **AutoML & Hyperparameter Tuning** | Auto-Sklearn, TPOT, Optuna, Ray Tune |\n",
    "| **Model Interpretability** | SHAP, Lime, Eli5, Alibi |"
   ]
  },
  {
   "cell_type": "markdown",
   "id": "2013248e",
   "metadata": {},
   "source": [
    "Examples:\n",
    "\n",
    "    Addition:\n",
    "        2 + 3 = 5\n",
    "        10 + (-4) = 6 (Negative number addition)\n",
    "\n",
    "    Subtraction:\n",
    "        7 - 5 = 2\n",
    "        12 - (-3) = 15 (Subtracting a negative number is like adding)\n",
    "\n",
    "    Multiplication:\n",
    "        4 * 6 = 24\n",
    "        (-2) * 9 = -18 (Multiplication with a negative number)\n",
    "\n",
    "    Division:\n",
    "        10 / 2 = 5\n",
    "        15 / (-3) = -5 (Division involving negative numbers)\n",
    "\n",
    "Operator Precedence:\n",
    "\n",
    "Expressions follow the order of operations: parentheses first, then multiplication and division (from left to right), and finally addition and subtraction (from left to right). For example:\n",
    "\n",
    "    5 + 2 * 3 = 11 (Multiplication is done before addition)\n",
    "    (5 + 2) * 3 = 21 (Parentheses dictate the order)"
   ]
  },
  {
   "cell_type": "code",
   "execution_count": 3,
   "id": "e18aa4b2",
   "metadata": {},
   "outputs": [
    {
     "name": "stdout",
     "output_type": "stream",
     "text": [
      "the result of the multiplication is: 35\n",
      "the result of the addition is: 12\n"
     ]
    }
   ],
   "source": [
    "def result_multiply(a, b):\n",
    "    M = a * b\n",
    "    A = a + b\n",
    "    print('the result of the multiplication is:', M)\n",
    "    print('the result of the addition is:', A)\n",
    "\n"
   ]
  },
  {
   "cell_type": "code",
   "execution_count": 4,
   "id": "e88f99cc",
   "metadata": {},
   "outputs": [
    {
     "name": "stdout",
     "output_type": "stream",
     "text": [
      "120 minutes is equal to 2.0 hours\n"
     ]
    }
   ],
   "source": [
    "def minutes_to_hours(minutes):\n",
    "    hours = minutes / 60  # There are 60 minutes in an hour\n",
    "    return hours\n",
    "\n",
    "# Example usage\n",
    "minutes = 120\n",
    "hours = minutes_to_hours(minutes)\n",
    "print(f\"{minutes} minutes is equal to {hours} hours\")"
   ]
  },
  {
   "cell_type": "markdown",
   "id": "223566f1",
   "metadata": {},
   "source": [
    "- **Learn Data Analysis**: Master the techniques of exploring and analyzing datasets to extract meaningful insights.\n",
    "- **Develop Machine Learning Skills**: Acquire proficiency in building predictive models and understanding various machine learning algorithms.\n",
    "- **Enhance Programming Abilities**: Improve coding skills in languages like Python, R, or Julia to manipulate data efficiently.\n",
    "- **Understand Data Visualization**: Explore visualization libraries to present data in a compelling and understandable way.\n",
    "-  **Grasp Statistical Concepts**: Gain a strong foundation in statistical methodologies for data-driven decision-making.\n",
    "- **Explore Big Data Technologies**: Familiarize yourself with tools and frameworks for handling large-scale datasets.\n",
    "-  **Apply in Real-World Scenarios**: Practice solving real-world problems to solidify understanding and practical skills.\n",
    "- **Collaborate and Share Insights**: Learn to effectively communicate findings and collaborate with teams on data-driven projects."
   ]
  },
  {
   "cell_type": "markdown",
   "id": "4a8132c8",
   "metadata": {},
   "source": [
    "**RADJI BASSIRA**"
   ]
  },
  {
   "cell_type": "code",
   "execution_count": null,
   "id": "4fa87e8a",
   "metadata": {},
   "outputs": [],
   "source": []
  }
 ],
 "metadata": {
  "kernelspec": {
   "display_name": "Python 3 (ipykernel)",
   "language": "python",
   "name": "python3"
  },
  "language_info": {
   "codemirror_mode": {
    "name": "ipython",
    "version": 3
   },
   "file_extension": ".py",
   "mimetype": "text/x-python",
   "name": "python",
   "nbconvert_exporter": "python",
   "pygments_lexer": "ipython3",
   "version": "3.11.5"
  }
 },
 "nbformat": 4,
 "nbformat_minor": 5
}
